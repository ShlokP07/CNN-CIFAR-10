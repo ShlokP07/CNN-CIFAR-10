{
  "nbformat": 4,
  "nbformat_minor": 0,
  "metadata": {
    "colab": {
      "name": "Internship _task.ipynb",
      "provenance": []
    },
    "kernelspec": {
      "name": "python3",
      "display_name": "Python 3"
    },
    "language_info": {
      "name": "python"
    },
    "accelerator": "TPU"
  },
  "cells": [
    {
      "cell_type": "markdown",
      "metadata": {
        "id": "ddZno7CnYCfc"
      },
      "source": [
        "# **Internship Task**"
      ]
    },
    {
      "cell_type": "markdown",
      "metadata": {
        "id": "FElyJ2qwYVTr"
      },
      "source": [
        "## **Dependencies**"
      ]
    },
    {
      "cell_type": "code",
      "metadata": {
        "id": "jxBL2deY-uJn"
      },
      "source": [
        "import tensorflow as tf\n",
        "from tensorflow import keras\n",
        "from tensorflow.keras import layers, models, datasets"
      ],
      "execution_count": 22,
      "outputs": []
    },
    {
      "cell_type": "code",
      "metadata": {
        "id": "JcZf4gSM_E1h"
      },
      "source": [
        "import matplotlib.pyplot as plt\n",
        "import numpy as np\n",
        "%matplotlib inline"
      ],
      "execution_count": 24,
      "outputs": []
    },
    {
      "cell_type": "code",
      "metadata": {
        "id": "23_b1Bcs_Pbg"
      },
      "source": [
        "(x_train, y_train), (x_test, y_test) = datasets.cifar10.load_data()"
      ],
      "execution_count": 86,
      "outputs": []
    },
    {
      "cell_type": "code",
      "metadata": {
        "id": "yHJw1i-W_lj5"
      },
      "source": [
        "classes = ['airplane', 'automobile', 'bird', 'cat', 'deer', 'dog', 'frog', 'horse', 'ship', 'truck']"
      ],
      "execution_count": 85,
      "outputs": []
    },
    {
      "cell_type": "markdown",
      "metadata": {
        "id": "YaUAvREeYqaF"
      },
      "source": [
        "## **Pre Processing**"
      ]
    },
    {
      "cell_type": "code",
      "metadata": {
        "colab": {
          "base_uri": "https://localhost:8080/"
        },
        "id": "QxtW5X48B2Po",
        "outputId": "7a005d84-d4cb-4a27-a685-a0bfdc0dd0b1"
      },
      "source": [
        "y_test.shape"
      ],
      "execution_count": 87,
      "outputs": [
        {
          "output_type": "execute_result",
          "data": {
            "text/plain": [
              "(10000, 1)"
            ]
          },
          "metadata": {},
          "execution_count": 87
        }
      ]
    },
    {
      "cell_type": "code",
      "metadata": {
        "id": "r4fGVy34B953"
      },
      "source": [
        "y_train = y_train.reshape(-1,)\n",
        "y_test = y_test.reshape(-1,)"
      ],
      "execution_count": 88,
      "outputs": []
    },
    {
      "cell_type": "code",
      "metadata": {
        "colab": {
          "base_uri": "https://localhost:8080/"
        },
        "id": "E7Gg2S4I_WZF",
        "outputId": "c85551bd-e607-47cf-b475-ff45120e63c3"
      },
      "source": [
        "y_test"
      ],
      "execution_count": 89,
      "outputs": [
        {
          "output_type": "execute_result",
          "data": {
            "text/plain": [
              "array([3, 8, 8, ..., 5, 1, 7], dtype=uint8)"
            ]
          },
          "metadata": {},
          "execution_count": 89
        }
      ]
    },
    {
      "cell_type": "code",
      "metadata": {
        "id": "97U0Yl-KCY7X"
      },
      "source": [
        "#Normalizing data\n",
        "x_train = x_train/255\n",
        "x_test = x_test/255\n"
      ],
      "execution_count": 90,
      "outputs": []
    },
    {
      "cell_type": "code",
      "metadata": {
        "colab": {
          "base_uri": "https://localhost:8080/"
        },
        "id": "ba9XPwHkCkI_",
        "outputId": "89c7e94b-5e5f-49d0-bfb8-9e13fb747b59"
      },
      "source": [
        "print(x_train[:10])\n",
        "print(y_train[:10])"
      ],
      "execution_count": 92,
      "outputs": [
        {
          "output_type": "stream",
          "name": "stdout",
          "text": [
            "[[[[0.23137255 0.24313725 0.24705882]\n",
            "   [0.16862745 0.18039216 0.17647059]\n",
            "   [0.19607843 0.18823529 0.16862745]\n",
            "   ...\n",
            "   [0.61960784 0.51764706 0.42352941]\n",
            "   [0.59607843 0.49019608 0.4       ]\n",
            "   [0.58039216 0.48627451 0.40392157]]\n",
            "\n",
            "  [[0.0627451  0.07843137 0.07843137]\n",
            "   [0.         0.         0.        ]\n",
            "   [0.07058824 0.03137255 0.        ]\n",
            "   ...\n",
            "   [0.48235294 0.34509804 0.21568627]\n",
            "   [0.46666667 0.3254902  0.19607843]\n",
            "   [0.47843137 0.34117647 0.22352941]]\n",
            "\n",
            "  [[0.09803922 0.09411765 0.08235294]\n",
            "   [0.0627451  0.02745098 0.        ]\n",
            "   [0.19215686 0.10588235 0.03137255]\n",
            "   ...\n",
            "   [0.4627451  0.32941176 0.19607843]\n",
            "   [0.47058824 0.32941176 0.19607843]\n",
            "   [0.42745098 0.28627451 0.16470588]]\n",
            "\n",
            "  ...\n",
            "\n",
            "  [[0.81568627 0.66666667 0.37647059]\n",
            "   [0.78823529 0.6        0.13333333]\n",
            "   [0.77647059 0.63137255 0.10196078]\n",
            "   ...\n",
            "   [0.62745098 0.52156863 0.2745098 ]\n",
            "   [0.21960784 0.12156863 0.02745098]\n",
            "   [0.20784314 0.13333333 0.07843137]]\n",
            "\n",
            "  [[0.70588235 0.54509804 0.37647059]\n",
            "   [0.67843137 0.48235294 0.16470588]\n",
            "   [0.72941176 0.56470588 0.11764706]\n",
            "   ...\n",
            "   [0.72156863 0.58039216 0.36862745]\n",
            "   [0.38039216 0.24313725 0.13333333]\n",
            "   [0.3254902  0.20784314 0.13333333]]\n",
            "\n",
            "  [[0.69411765 0.56470588 0.45490196]\n",
            "   [0.65882353 0.50588235 0.36862745]\n",
            "   [0.70196078 0.55686275 0.34117647]\n",
            "   ...\n",
            "   [0.84705882 0.72156863 0.54901961]\n",
            "   [0.59215686 0.4627451  0.32941176]\n",
            "   [0.48235294 0.36078431 0.28235294]]]\n",
            "\n",
            "\n",
            " [[[0.60392157 0.69411765 0.73333333]\n",
            "   [0.49411765 0.5372549  0.53333333]\n",
            "   [0.41176471 0.40784314 0.37254902]\n",
            "   ...\n",
            "   [0.35686275 0.37254902 0.27843137]\n",
            "   [0.34117647 0.35294118 0.27843137]\n",
            "   [0.30980392 0.31764706 0.2745098 ]]\n",
            "\n",
            "  [[0.54901961 0.62745098 0.6627451 ]\n",
            "   [0.56862745 0.6        0.60392157]\n",
            "   [0.49019608 0.49019608 0.4627451 ]\n",
            "   ...\n",
            "   [0.37647059 0.38823529 0.30588235]\n",
            "   [0.30196078 0.31372549 0.24313725]\n",
            "   [0.27843137 0.28627451 0.23921569]]\n",
            "\n",
            "  [[0.54901961 0.60784314 0.64313725]\n",
            "   [0.54509804 0.57254902 0.58431373]\n",
            "   [0.45098039 0.45098039 0.43921569]\n",
            "   ...\n",
            "   [0.30980392 0.32156863 0.25098039]\n",
            "   [0.26666667 0.2745098  0.21568627]\n",
            "   [0.2627451  0.27058824 0.21568627]]\n",
            "\n",
            "  ...\n",
            "\n",
            "  [[0.68627451 0.65490196 0.65098039]\n",
            "   [0.61176471 0.60392157 0.62745098]\n",
            "   [0.60392157 0.62745098 0.66666667]\n",
            "   ...\n",
            "   [0.16470588 0.13333333 0.14117647]\n",
            "   [0.23921569 0.20784314 0.22352941]\n",
            "   [0.36470588 0.3254902  0.35686275]]\n",
            "\n",
            "  [[0.64705882 0.60392157 0.50196078]\n",
            "   [0.61176471 0.59607843 0.50980392]\n",
            "   [0.62352941 0.63137255 0.55686275]\n",
            "   ...\n",
            "   [0.40392157 0.36470588 0.37647059]\n",
            "   [0.48235294 0.44705882 0.47058824]\n",
            "   [0.51372549 0.4745098  0.51372549]]\n",
            "\n",
            "  [[0.63921569 0.58039216 0.47058824]\n",
            "   [0.61960784 0.58039216 0.47843137]\n",
            "   [0.63921569 0.61176471 0.52156863]\n",
            "   ...\n",
            "   [0.56078431 0.52156863 0.54509804]\n",
            "   [0.56078431 0.5254902  0.55686275]\n",
            "   [0.56078431 0.52156863 0.56470588]]]\n",
            "\n",
            "\n",
            " [[[1.         1.         1.        ]\n",
            "   [0.99215686 0.99215686 0.99215686]\n",
            "   [0.99215686 0.99215686 0.99215686]\n",
            "   ...\n",
            "   [0.99215686 0.99215686 0.99215686]\n",
            "   [0.99215686 0.99215686 0.99215686]\n",
            "   [0.99215686 0.99215686 0.99215686]]\n",
            "\n",
            "  [[1.         1.         1.        ]\n",
            "   [1.         1.         1.        ]\n",
            "   [1.         1.         1.        ]\n",
            "   ...\n",
            "   [1.         1.         1.        ]\n",
            "   [1.         1.         1.        ]\n",
            "   [1.         1.         1.        ]]\n",
            "\n",
            "  [[1.         1.         1.        ]\n",
            "   [0.99607843 0.99607843 0.99607843]\n",
            "   [0.99607843 0.99607843 0.99607843]\n",
            "   ...\n",
            "   [0.99607843 0.99607843 0.99607843]\n",
            "   [0.99607843 0.99607843 0.99607843]\n",
            "   [0.99607843 0.99607843 0.99607843]]\n",
            "\n",
            "  ...\n",
            "\n",
            "  [[0.44313725 0.47058824 0.43921569]\n",
            "   [0.43529412 0.4627451  0.43529412]\n",
            "   [0.41176471 0.43921569 0.41568627]\n",
            "   ...\n",
            "   [0.28235294 0.31764706 0.31372549]\n",
            "   [0.28235294 0.31372549 0.30980392]\n",
            "   [0.28235294 0.31372549 0.30980392]]\n",
            "\n",
            "  [[0.43529412 0.4627451  0.43137255]\n",
            "   [0.40784314 0.43529412 0.40784314]\n",
            "   [0.38823529 0.41568627 0.38431373]\n",
            "   ...\n",
            "   [0.26666667 0.29411765 0.28627451]\n",
            "   [0.2745098  0.29803922 0.29411765]\n",
            "   [0.30588235 0.32941176 0.32156863]]\n",
            "\n",
            "  [[0.41568627 0.44313725 0.41176471]\n",
            "   [0.38823529 0.41568627 0.38431373]\n",
            "   [0.37254902 0.4        0.36862745]\n",
            "   ...\n",
            "   [0.30588235 0.33333333 0.3254902 ]\n",
            "   [0.30980392 0.33333333 0.3254902 ]\n",
            "   [0.31372549 0.3372549  0.32941176]]]\n",
            "\n",
            "\n",
            " ...\n",
            "\n",
            "\n",
            " [[[0.10980392 0.1372549  0.15294118]\n",
            "   [0.11764706 0.13333333 0.17254902]\n",
            "   [0.12941176 0.17254902 0.18431373]\n",
            "   ...\n",
            "   [0.16862745 0.21960784 0.17647059]\n",
            "   [0.20392157 0.25098039 0.20784314]\n",
            "   [0.18039216 0.22745098 0.18431373]]\n",
            "\n",
            "  [[0.10588235 0.11764706 0.14901961]\n",
            "   [0.10588235 0.10980392 0.16078431]\n",
            "   [0.08235294 0.12156863 0.15294118]\n",
            "   ...\n",
            "   [0.43921569 0.53333333 0.38039216]\n",
            "   [0.45882353 0.54901961 0.39607843]\n",
            "   [0.45098039 0.54117647 0.39215686]]\n",
            "\n",
            "  [[0.13333333 0.14117647 0.16470588]\n",
            "   [0.12941176 0.12941176 0.16862745]\n",
            "   [0.09411765 0.11764706 0.15686275]\n",
            "   ...\n",
            "   [0.68627451 0.81568627 0.56078431]\n",
            "   [0.69411765 0.81960784 0.56470588]\n",
            "   [0.69019608 0.81568627 0.56078431]]\n",
            "\n",
            "  ...\n",
            "\n",
            "  [[0.55686275 0.69019608 0.4627451 ]\n",
            "   [0.55686275 0.69019608 0.4627451 ]\n",
            "   [0.58823529 0.72156863 0.49803922]\n",
            "   ...\n",
            "   [0.5254902  0.68627451 0.46666667]\n",
            "   [0.50196078 0.65882353 0.43921569]\n",
            "   [0.5254902  0.68627451 0.46666667]]\n",
            "\n",
            "  [[0.54901961 0.69019608 0.48627451]\n",
            "   [0.56862745 0.70588235 0.50588235]\n",
            "   [0.58823529 0.72941176 0.5254902 ]\n",
            "   ...\n",
            "   [0.51372549 0.66666667 0.46666667]\n",
            "   [0.50980392 0.66666667 0.46666667]\n",
            "   [0.47843137 0.63529412 0.43529412]]\n",
            "\n",
            "  [[0.5254902  0.67058824 0.48235294]\n",
            "   [0.53333333 0.67058824 0.48627451]\n",
            "   [0.53333333 0.67058824 0.48627451]\n",
            "   ...\n",
            "   [0.41568627 0.56470588 0.39215686]\n",
            "   [0.40784314 0.55686275 0.38823529]\n",
            "   [0.39607843 0.54901961 0.37647059]]]\n",
            "\n",
            "\n",
            " [[[0.5254902  0.72941176 0.8745098 ]\n",
            "   [0.51372549 0.72156863 0.8627451 ]\n",
            "   [0.50196078 0.71372549 0.85490196]\n",
            "   ...\n",
            "   [0.49803922 0.70980392 0.87058824]\n",
            "   [0.49803922 0.70980392 0.87058824]\n",
            "   [0.50196078 0.71372549 0.8745098 ]]\n",
            "\n",
            "  [[0.52156863 0.74117647 0.89411765]\n",
            "   [0.50588235 0.72941176 0.87843137]\n",
            "   [0.50196078 0.72941176 0.87843137]\n",
            "   ...\n",
            "   [0.49803922 0.71764706 0.87843137]\n",
            "   [0.49803922 0.71764706 0.87843137]\n",
            "   [0.50196078 0.72156863 0.88235294]]\n",
            "\n",
            "  [[0.50196078 0.7254902  0.88627451]\n",
            "   [0.49803922 0.71372549 0.8745098 ]\n",
            "   [0.50196078 0.71372549 0.8745098 ]\n",
            "   ...\n",
            "   [0.49411765 0.70980392 0.87058824]\n",
            "   [0.49411765 0.70980392 0.87058824]\n",
            "   [0.49411765 0.70588235 0.86666667]]\n",
            "\n",
            "  ...\n",
            "\n",
            "  [[0.68235294 0.81568627 0.92156863]\n",
            "   [0.67058824 0.80784314 0.89803922]\n",
            "   [0.60784314 0.74117647 0.84705882]\n",
            "   ...\n",
            "   [0.10588235 0.36862745 0.53333333]\n",
            "   [0.11372549 0.37647059 0.5372549 ]\n",
            "   [0.10980392 0.36862745 0.53333333]]\n",
            "\n",
            "  [[0.76078431 0.86666667 0.95686275]\n",
            "   [0.74117647 0.84313725 0.9372549 ]\n",
            "   [0.62352941 0.76862745 0.88235294]\n",
            "   ...\n",
            "   [0.11764706 0.37254902 0.54117647]\n",
            "   [0.11764706 0.37647059 0.54509804]\n",
            "   [0.11764706 0.37254902 0.54901961]]\n",
            "\n",
            "  [[0.75686275 0.85098039 0.92941176]\n",
            "   [0.70980392 0.81568627 0.90196078]\n",
            "   [0.65882353 0.78823529 0.89019608]\n",
            "   ...\n",
            "   [0.12156863 0.36862745 0.53333333]\n",
            "   [0.1254902  0.36862745 0.5372549 ]\n",
            "   [0.1254902  0.36862745 0.54117647]]]\n",
            "\n",
            "\n",
            " [[[0.49019608 0.49019608 0.45490196]\n",
            "   [0.43137255 0.39607843 0.35686275]\n",
            "   [0.4        0.35294118 0.3254902 ]\n",
            "   ...\n",
            "   [0.79215686 0.81176471 0.83921569]\n",
            "   [0.78431373 0.80392157 0.83137255]\n",
            "   [0.79215686 0.81568627 0.83921569]]\n",
            "\n",
            "  [[0.55686275 0.57254902 0.55686275]\n",
            "   [0.57254902 0.56470588 0.54509804]\n",
            "   [0.69019608 0.6745098  0.66666667]\n",
            "   ...\n",
            "   [0.76470588 0.78823529 0.80392157]\n",
            "   [0.77647059 0.80392157 0.81960784]\n",
            "   [0.8        0.82745098 0.84313725]]\n",
            "\n",
            "  [[0.70588235 0.7254902  0.71764706]\n",
            "   [0.56078431 0.57254902 0.57254902]\n",
            "   [0.61176471 0.61568627 0.61568627]\n",
            "   ...\n",
            "   [0.47843137 0.43529412 0.44313725]\n",
            "   [0.54509804 0.50196078 0.51372549]\n",
            "   [0.61960784 0.57647059 0.58823529]]\n",
            "\n",
            "  ...\n",
            "\n",
            "  [[0.40784314 0.32156863 0.16078431]\n",
            "   [0.39607843 0.31372549 0.15294118]\n",
            "   [0.39607843 0.31764706 0.14901961]\n",
            "   ...\n",
            "   [0.49411765 0.40392157 0.2627451 ]\n",
            "   [0.49411765 0.40392157 0.27058824]\n",
            "   [0.49019608 0.39607843 0.26666667]]\n",
            "\n",
            "  [[0.40784314 0.31764706 0.15686275]\n",
            "   [0.41176471 0.32941176 0.16078431]\n",
            "   [0.42745098 0.34509804 0.16862745]\n",
            "   ...\n",
            "   [0.54117647 0.44313725 0.30588235]\n",
            "   [0.5372549  0.44313725 0.31372549]\n",
            "   [0.5372549  0.43921569 0.31764706]]\n",
            "\n",
            "  [[0.41176471 0.3254902  0.16470588]\n",
            "   [0.42352941 0.34117647 0.17647059]\n",
            "   [0.45098039 0.36862745 0.19607843]\n",
            "   ...\n",
            "   [0.56078431 0.45882353 0.32156863]\n",
            "   [0.56078431 0.45490196 0.32941176]\n",
            "   [0.56470588 0.45490196 0.3372549 ]]]]\n",
            "[6 9 9 4 1 1 2 7 8 3]\n"
          ]
        }
      ]
    },
    {
      "cell_type": "markdown",
      "metadata": {
        "id": "5UDtvRbRDFX_"
      },
      "source": [
        "## **NetA**"
      ]
    },
    {
      "cell_type": "code",
      "metadata": {
        "colab": {
          "base_uri": "https://localhost:8080/"
        },
        "id": "fk6hoJC6DOTO",
        "outputId": "35ec963a-0bac-4662-827a-df8e7baec8d6"
      },
      "source": [
        "net_a = keras.Sequential([\n",
        "                           keras.layers.Flatten(), \n",
        "                           keras.layers.Dense(10, activation='softmax')])\n",
        "\n",
        "net_a.compile(optimizer = 'adam', loss = 'sparse_categorical_crossentropy', metrics =['accuracy'])\n",
        "\n",
        "history3 = net_a.fit(x_train, y_train, validation_data=(x_test, y_test), epochs = 50)"
      ],
      "execution_count": 112,
      "outputs": [
        {
          "output_type": "stream",
          "name": "stdout",
          "text": [
            "Epoch 1/50\n",
            "1563/1563 [==============================] - 5s 3ms/step - loss: 1.9699 - accuracy: 0.3146 - val_loss: 1.9762 - val_accuracy: 0.3237\n",
            "Epoch 2/50\n",
            "1563/1563 [==============================] - 4s 3ms/step - loss: 1.8917 - accuracy: 0.3507 - val_loss: 1.9018 - val_accuracy: 0.3440\n",
            "Epoch 3/50\n",
            "1563/1563 [==============================] - 4s 3ms/step - loss: 1.8520 - accuracy: 0.3629 - val_loss: 1.8898 - val_accuracy: 0.3522\n",
            "Epoch 4/50\n",
            "1563/1563 [==============================] - 4s 3ms/step - loss: 1.8324 - accuracy: 0.3700 - val_loss: 1.7749 - val_accuracy: 0.3889\n",
            "Epoch 5/50\n",
            "1563/1563 [==============================] - 4s 3ms/step - loss: 1.8361 - accuracy: 0.3718 - val_loss: 1.8504 - val_accuracy: 0.3590\n",
            "Epoch 6/50\n",
            "1563/1563 [==============================] - 4s 3ms/step - loss: 1.8246 - accuracy: 0.3767 - val_loss: 1.8395 - val_accuracy: 0.3634\n",
            "Epoch 7/50\n",
            "1563/1563 [==============================] - 5s 3ms/step - loss: 1.8132 - accuracy: 0.3810 - val_loss: 1.9341 - val_accuracy: 0.3391\n",
            "Epoch 8/50\n",
            "1563/1563 [==============================] - 5s 3ms/step - loss: 1.8133 - accuracy: 0.3788 - val_loss: 1.9883 - val_accuracy: 0.3005\n",
            "Epoch 9/50\n",
            "1563/1563 [==============================] - 4s 3ms/step - loss: 1.8087 - accuracy: 0.3837 - val_loss: 1.8625 - val_accuracy: 0.3595\n",
            "Epoch 10/50\n",
            "1563/1563 [==============================] - 5s 3ms/step - loss: 1.8018 - accuracy: 0.3883 - val_loss: 1.7509 - val_accuracy: 0.3957\n",
            "Epoch 11/50\n",
            "1563/1563 [==============================] - 5s 3ms/step - loss: 1.7957 - accuracy: 0.3886 - val_loss: 1.8127 - val_accuracy: 0.3718\n",
            "Epoch 12/50\n",
            "1563/1563 [==============================] - 5s 3ms/step - loss: 1.7933 - accuracy: 0.3889 - val_loss: 1.7978 - val_accuracy: 0.3825\n",
            "Epoch 13/50\n",
            "1563/1563 [==============================] - 4s 3ms/step - loss: 1.7863 - accuracy: 0.3918 - val_loss: 1.8692 - val_accuracy: 0.3704\n",
            "Epoch 14/50\n",
            "1563/1563 [==============================] - 4s 3ms/step - loss: 1.7895 - accuracy: 0.3904 - val_loss: 1.8403 - val_accuracy: 0.3694\n",
            "Epoch 15/50\n",
            "1563/1563 [==============================] - 5s 3ms/step - loss: 1.7851 - accuracy: 0.3933 - val_loss: 1.8563 - val_accuracy: 0.3642\n",
            "Epoch 16/50\n",
            "1563/1563 [==============================] - 5s 3ms/step - loss: 1.7820 - accuracy: 0.3933 - val_loss: 1.8877 - val_accuracy: 0.3580\n",
            "Epoch 17/50\n",
            "1563/1563 [==============================] - 5s 3ms/step - loss: 1.7859 - accuracy: 0.3927 - val_loss: 1.9991 - val_accuracy: 0.3336\n",
            "Epoch 18/50\n",
            "1563/1563 [==============================] - 5s 3ms/step - loss: 1.7718 - accuracy: 0.3957 - val_loss: 1.9282 - val_accuracy: 0.3397\n",
            "Epoch 19/50\n",
            "1563/1563 [==============================] - 6s 4ms/step - loss: 1.7809 - accuracy: 0.3925 - val_loss: 1.9099 - val_accuracy: 0.3446\n",
            "Epoch 20/50\n",
            "1563/1563 [==============================] - 4s 3ms/step - loss: 1.7779 - accuracy: 0.3983 - val_loss: 1.7818 - val_accuracy: 0.3908\n",
            "Epoch 21/50\n",
            "1563/1563 [==============================] - 4s 3ms/step - loss: 1.7787 - accuracy: 0.3965 - val_loss: 1.9587 - val_accuracy: 0.3604\n",
            "Epoch 22/50\n",
            "1563/1563 [==============================] - 5s 3ms/step - loss: 1.7745 - accuracy: 0.3967 - val_loss: 1.8213 - val_accuracy: 0.3709\n",
            "Epoch 23/50\n",
            "1563/1563 [==============================] - 4s 3ms/step - loss: 1.7732 - accuracy: 0.3993 - val_loss: 1.8453 - val_accuracy: 0.3609\n",
            "Epoch 24/50\n",
            "1563/1563 [==============================] - 5s 3ms/step - loss: 1.7618 - accuracy: 0.4025 - val_loss: 1.9517 - val_accuracy: 0.3610\n",
            "Epoch 25/50\n",
            "1563/1563 [==============================] - 5s 3ms/step - loss: 1.7629 - accuracy: 0.3982 - val_loss: 1.8423 - val_accuracy: 0.3649\n",
            "Epoch 26/50\n",
            "1563/1563 [==============================] - 5s 3ms/step - loss: 1.7660 - accuracy: 0.4003 - val_loss: 1.9402 - val_accuracy: 0.3459\n",
            "Epoch 27/50\n",
            "1563/1563 [==============================] - 4s 3ms/step - loss: 1.7624 - accuracy: 0.4003 - val_loss: 1.9282 - val_accuracy: 0.3461\n",
            "Epoch 28/50\n",
            "1563/1563 [==============================] - 5s 3ms/step - loss: 1.7538 - accuracy: 0.4026 - val_loss: 1.8046 - val_accuracy: 0.3708\n",
            "Epoch 29/50\n",
            "1563/1563 [==============================] - 5s 3ms/step - loss: 1.7595 - accuracy: 0.4013 - val_loss: 1.9170 - val_accuracy: 0.3449\n",
            "Epoch 30/50\n",
            "1563/1563 [==============================] - 5s 3ms/step - loss: 1.7608 - accuracy: 0.4021 - val_loss: 1.8940 - val_accuracy: 0.3529\n",
            "Epoch 31/50\n",
            "1563/1563 [==============================] - 5s 3ms/step - loss: 1.7633 - accuracy: 0.3998 - val_loss: 1.8605 - val_accuracy: 0.3614\n",
            "Epoch 32/50\n",
            "1563/1563 [==============================] - 5s 3ms/step - loss: 1.7540 - accuracy: 0.4047 - val_loss: 1.8180 - val_accuracy: 0.3645\n",
            "Epoch 33/50\n",
            "1563/1563 [==============================] - 5s 3ms/step - loss: 1.7701 - accuracy: 0.3990 - val_loss: 1.8886 - val_accuracy: 0.3663\n",
            "Epoch 34/50\n",
            "1563/1563 [==============================] - 5s 3ms/step - loss: 1.7521 - accuracy: 0.4064 - val_loss: 1.9397 - val_accuracy: 0.3554\n",
            "Epoch 35/50\n",
            "1563/1563 [==============================] - 4s 3ms/step - loss: 1.7501 - accuracy: 0.4049 - val_loss: 1.8603 - val_accuracy: 0.3698\n",
            "Epoch 36/50\n",
            "1563/1563 [==============================] - 5s 3ms/step - loss: 1.7592 - accuracy: 0.4037 - val_loss: 2.0290 - val_accuracy: 0.3464\n",
            "Epoch 37/50\n",
            "1563/1563 [==============================] - 5s 3ms/step - loss: 1.7599 - accuracy: 0.4034 - val_loss: 1.7960 - val_accuracy: 0.3829\n",
            "Epoch 38/50\n",
            "1563/1563 [==============================] - 5s 3ms/step - loss: 1.7514 - accuracy: 0.4058 - val_loss: 1.9120 - val_accuracy: 0.3447\n",
            "Epoch 39/50\n",
            "1563/1563 [==============================] - 5s 3ms/step - loss: 1.7464 - accuracy: 0.4038 - val_loss: 1.8643 - val_accuracy: 0.3592\n",
            "Epoch 40/50\n",
            "1563/1563 [==============================] - 4s 3ms/step - loss: 1.7470 - accuracy: 0.4081 - val_loss: 1.8358 - val_accuracy: 0.3699\n",
            "Epoch 41/50\n",
            "1563/1563 [==============================] - 4s 3ms/step - loss: 1.7459 - accuracy: 0.4071 - val_loss: 1.8175 - val_accuracy: 0.3755\n",
            "Epoch 42/50\n",
            "1563/1563 [==============================] - 5s 3ms/step - loss: 1.7542 - accuracy: 0.4068 - val_loss: 1.8672 - val_accuracy: 0.3596\n",
            "Epoch 43/50\n",
            "1563/1563 [==============================] - 5s 3ms/step - loss: 1.7450 - accuracy: 0.4078 - val_loss: 1.8621 - val_accuracy: 0.3584\n",
            "Epoch 44/50\n",
            "1563/1563 [==============================] - 5s 3ms/step - loss: 1.7521 - accuracy: 0.4060 - val_loss: 1.8190 - val_accuracy: 0.3762\n",
            "Epoch 45/50\n",
            "1563/1563 [==============================] - 5s 3ms/step - loss: 1.7516 - accuracy: 0.4062 - val_loss: 1.8629 - val_accuracy: 0.3600\n",
            "Epoch 46/50\n",
            "1563/1563 [==============================] - 5s 3ms/step - loss: 1.7455 - accuracy: 0.4075 - val_loss: 1.8815 - val_accuracy: 0.3623\n",
            "Epoch 47/50\n",
            "1563/1563 [==============================] - 5s 3ms/step - loss: 1.7393 - accuracy: 0.4105 - val_loss: 1.8565 - val_accuracy: 0.3839\n",
            "Epoch 48/50\n",
            "1563/1563 [==============================] - 5s 3ms/step - loss: 1.7471 - accuracy: 0.4086 - val_loss: 2.0144 - val_accuracy: 0.3244\n",
            "Epoch 49/50\n",
            "1563/1563 [==============================] - 5s 3ms/step - loss: 1.7434 - accuracy: 0.4076 - val_loss: 1.8801 - val_accuracy: 0.3608\n",
            "Epoch 50/50\n",
            "1563/1563 [==============================] - 5s 3ms/step - loss: 1.7378 - accuracy: 0.4089 - val_loss: 1.8797 - val_accuracy: 0.3699\n"
          ]
        }
      ]
    },
    {
      "cell_type": "code",
      "metadata": {
        "colab": {
          "base_uri": "https://localhost:8080/",
          "height": 295
        },
        "id": "0X1x9L_FaPim",
        "outputId": "7e6e6645-8014-457a-b236-27b5b76d5008"
      },
      "source": [
        "plt.plot(history3.history['accuracy'])\n",
        "plt.plot(history3.history['val_accuracy'])\n",
        "plt.title('model accuracy')\n",
        "plt.ylabel('accuracy')\n",
        "plt.xlabel('epoch')\n",
        "plt.legend(['train', 'val'], loc='upper left')\n",
        "plt.show()"
      ],
      "execution_count": 140,
      "outputs": [
        {
          "output_type": "display_data",
          "data": {
            "image/png": "[encoded data removed]",
            "text/plain": [
              "<Figure size 432x288 with 1 Axes>"
            ]
          },
          "metadata": {
            "needs_background": "light"
          }
        }
      ]
    },
    {
      "cell_type": "markdown",
      "metadata": {
        "id": "7FshuCmiGGwN"
      },
      "source": [
        "# **NetB**"
      ]
    },
    {
      "cell_type": "code",
      "metadata": {
        "colab": {
          "base_uri": "https://localhost:8080/"
        },
        "id": "EbP9qHsQGMrv",
        "outputId": "176f8b7d-3132-46da-fa8a-6179c9f24c48"
      },
      "source": [
        "net_b = keras.Sequential([\n",
        "                          keras.layers.Flatten(), \n",
        "                          keras.layers.Dense(300, activation= 'relu'),\n",
        "                          keras.layers.Dense(10, activation= 'softmax')\n",
        "])\n",
        "\n",
        "net_b.compile(optimizer = 'adam', loss = 'sparse_categorical_crossentropy', metrics = ['accuracy'])\n",
        "\n",
        "history2 = net_b.fit(x_train, y_train, validation_data=(x_test, y_test), epochs = 50)"
      ],
      "execution_count": 96,
      "outputs": [
        {
          "output_type": "stream",
          "name": "stdout",
          "text": [
            "Epoch 1/50\n",
            "1563/1563 [==============================] - 16s 10ms/step - loss: 1.8887 - accuracy: 0.3214 - val_loss: 1.7471 - val_accuracy: 0.3715\n",
            "Epoch 2/50\n",
            "1563/1563 [==============================] - 15s 10ms/step - loss: 1.7314 - accuracy: 0.3848 - val_loss: 1.7124 - val_accuracy: 0.3904\n",
            "Epoch 3/50\n",
            "1563/1563 [==============================] - 15s 10ms/step - loss: 1.6703 - accuracy: 0.4044 - val_loss: 1.6342 - val_accuracy: 0.4156\n",
            "Epoch 4/50\n",
            "1563/1563 [==============================] - 15s 10ms/step - loss: 1.6257 - accuracy: 0.4220 - val_loss: 1.6726 - val_accuracy: 0.3979\n",
            "Epoch 5/50\n",
            "1563/1563 [==============================] - 15s 10ms/step - loss: 1.5972 - accuracy: 0.4355 - val_loss: 1.6138 - val_accuracy: 0.4241\n",
            "Epoch 6/50\n",
            "1563/1563 [==============================] - 15s 10ms/step - loss: 1.5679 - accuracy: 0.4448 - val_loss: 1.5747 - val_accuracy: 0.4377\n",
            "Epoch 7/50\n",
            "1563/1563 [==============================] - 15s 10ms/step - loss: 1.5484 - accuracy: 0.4490 - val_loss: 1.5540 - val_accuracy: 0.4411\n",
            "Epoch 8/50\n",
            "1563/1563 [==============================] - 15s 10ms/step - loss: 1.5344 - accuracy: 0.4567 - val_loss: 1.6091 - val_accuracy: 0.4331\n",
            "Epoch 9/50\n",
            "1563/1563 [==============================] - 16s 10ms/step - loss: 1.5248 - accuracy: 0.4600 - val_loss: 1.5517 - val_accuracy: 0.4467\n",
            "Epoch 10/50\n",
            "1563/1563 [==============================] - 16s 10ms/step - loss: 1.5104 - accuracy: 0.4639 - val_loss: 1.5437 - val_accuracy: 0.4475\n",
            "Epoch 11/50\n",
            "1563/1563 [==============================] - 16s 10ms/step - loss: 1.5048 - accuracy: 0.4663 - val_loss: 1.5255 - val_accuracy: 0.4522\n",
            "Epoch 12/50\n",
            "1563/1563 [==============================] - 16s 10ms/step - loss: 1.4995 - accuracy: 0.4668 - val_loss: 1.5360 - val_accuracy: 0.4509\n",
            "Epoch 13/50\n",
            "1563/1563 [==============================] - 16s 10ms/step - loss: 1.4867 - accuracy: 0.4724 - val_loss: 1.5576 - val_accuracy: 0.4439\n",
            "Epoch 14/50\n",
            "1563/1563 [==============================] - 16s 10ms/step - loss: 1.4828 - accuracy: 0.4736 - val_loss: 1.5216 - val_accuracy: 0.4605\n",
            "Epoch 15/50\n",
            "1563/1563 [==============================] - 16s 10ms/step - loss: 1.4747 - accuracy: 0.4764 - val_loss: 1.5136 - val_accuracy: 0.4653\n",
            "Epoch 16/50\n",
            "1563/1563 [==============================] - 16s 10ms/step - loss: 1.4709 - accuracy: 0.4784 - val_loss: 1.5319 - val_accuracy: 0.4509\n",
            "Epoch 17/50\n",
            "1563/1563 [==============================] - 16s 10ms/step - loss: 1.4658 - accuracy: 0.4810 - val_loss: 1.5196 - val_accuracy: 0.4598\n",
            "Epoch 18/50\n",
            "1563/1563 [==============================] - 16s 10ms/step - loss: 1.4588 - accuracy: 0.4822 - val_loss: 1.5226 - val_accuracy: 0.4575\n",
            "Epoch 19/50\n",
            "1563/1563 [==============================] - 16s 10ms/step - loss: 1.4553 - accuracy: 0.4834 - val_loss: 1.5198 - val_accuracy: 0.4635\n",
            "Epoch 20/50\n",
            "1563/1563 [==============================] - 16s 10ms/step - loss: 1.4494 - accuracy: 0.4858 - val_loss: 1.5124 - val_accuracy: 0.4670\n",
            "Epoch 21/50\n",
            "1563/1563 [==============================] - 15s 10ms/step - loss: 1.4462 - accuracy: 0.4864 - val_loss: 1.5296 - val_accuracy: 0.4563\n",
            "Epoch 22/50\n",
            "1563/1563 [==============================] - 16s 10ms/step - loss: 1.4443 - accuracy: 0.4867 - val_loss: 1.4966 - val_accuracy: 0.4661\n",
            "Epoch 23/50\n",
            "1563/1563 [==============================] - 16s 10ms/step - loss: 1.4392 - accuracy: 0.4901 - val_loss: 1.5222 - val_accuracy: 0.4644\n",
            "Epoch 24/50\n",
            "1563/1563 [==============================] - 15s 10ms/step - loss: 1.4328 - accuracy: 0.4910 - val_loss: 1.5235 - val_accuracy: 0.4571\n",
            "Epoch 25/50\n",
            "1563/1563 [==============================] - 15s 10ms/step - loss: 1.4316 - accuracy: 0.4901 - val_loss: 1.5320 - val_accuracy: 0.4592\n",
            "Epoch 26/50\n",
            "1563/1563 [==============================] - 15s 10ms/step - loss: 1.4236 - accuracy: 0.4934 - val_loss: 1.5276 - val_accuracy: 0.4621\n",
            "Epoch 27/50\n",
            "1563/1563 [==============================] - 16s 10ms/step - loss: 1.4226 - accuracy: 0.4955 - val_loss: 1.5142 - val_accuracy: 0.4601\n",
            "Epoch 28/50\n",
            "1563/1563 [==============================] - 16s 10ms/step - loss: 1.4208 - accuracy: 0.4947 - val_loss: 1.5699 - val_accuracy: 0.4502\n",
            "Epoch 29/50\n",
            "1563/1563 [==============================] - 16s 10ms/step - loss: 1.4166 - accuracy: 0.4956 - val_loss: 1.5158 - val_accuracy: 0.4691\n",
            "Epoch 30/50\n",
            "1563/1563 [==============================] - 15s 10ms/step - loss: 1.4138 - accuracy: 0.4964 - val_loss: 1.5056 - val_accuracy: 0.4591\n",
            "Epoch 31/50\n",
            "1563/1563 [==============================] - 15s 10ms/step - loss: 1.4105 - accuracy: 0.4998 - val_loss: 1.5210 - val_accuracy: 0.4646\n",
            "Epoch 32/50\n",
            "1563/1563 [==============================] - 15s 10ms/step - loss: 1.4075 - accuracy: 0.4977 - val_loss: 1.5555 - val_accuracy: 0.4510\n",
            "Epoch 33/50\n",
            "1563/1563 [==============================] - 15s 10ms/step - loss: 1.4055 - accuracy: 0.4999 - val_loss: 1.5064 - val_accuracy: 0.4629\n",
            "Epoch 34/50\n",
            "1563/1563 [==============================] - 16s 10ms/step - loss: 1.4013 - accuracy: 0.4987 - val_loss: 1.5236 - val_accuracy: 0.4570\n",
            "Epoch 35/50\n",
            "1563/1563 [==============================] - 16s 10ms/step - loss: 1.3969 - accuracy: 0.5031 - val_loss: 1.4882 - val_accuracy: 0.4671\n",
            "Epoch 36/50\n",
            "1563/1563 [==============================] - 15s 10ms/step - loss: 1.3952 - accuracy: 0.5026 - val_loss: 1.4928 - val_accuracy: 0.4693\n",
            "Epoch 37/50\n",
            "1563/1563 [==============================] - 15s 10ms/step - loss: 1.3925 - accuracy: 0.5030 - val_loss: 1.5052 - val_accuracy: 0.4668\n",
            "Epoch 38/50\n",
            "1563/1563 [==============================] - 15s 10ms/step - loss: 1.3927 - accuracy: 0.5043 - val_loss: 1.5255 - val_accuracy: 0.4641\n",
            "Epoch 39/50\n",
            "1563/1563 [==============================] - 15s 10ms/step - loss: 1.3873 - accuracy: 0.5078 - val_loss: 1.4974 - val_accuracy: 0.4634\n",
            "Epoch 40/50\n",
            "1563/1563 [==============================] - 16s 10ms/step - loss: 1.3878 - accuracy: 0.5062 - val_loss: 1.5174 - val_accuracy: 0.4652\n",
            "Epoch 41/50\n",
            "1563/1563 [==============================] - 15s 10ms/step - loss: 1.3830 - accuracy: 0.5058 - val_loss: 1.5001 - val_accuracy: 0.4639\n",
            "Epoch 42/50\n",
            "1563/1563 [==============================] - 15s 10ms/step - loss: 1.3830 - accuracy: 0.5087 - val_loss: 1.5237 - val_accuracy: 0.4625\n",
            "Epoch 43/50\n",
            "1563/1563 [==============================] - 15s 10ms/step - loss: 1.3783 - accuracy: 0.5081 - val_loss: 1.5368 - val_accuracy: 0.4518\n",
            "Epoch 44/50\n",
            "1563/1563 [==============================] - 16s 10ms/step - loss: 1.3817 - accuracy: 0.5043 - val_loss: 1.4930 - val_accuracy: 0.4706\n",
            "Epoch 45/50\n",
            "1563/1563 [==============================] - 15s 10ms/step - loss: 1.3748 - accuracy: 0.5095 - val_loss: 1.5029 - val_accuracy: 0.4667\n",
            "Epoch 46/50\n",
            "1563/1563 [==============================] - 15s 10ms/step - loss: 1.3738 - accuracy: 0.5109 - val_loss: 1.4835 - val_accuracy: 0.4710\n",
            "Epoch 47/50\n",
            "1563/1563 [==============================] - 15s 10ms/step - loss: 1.3719 - accuracy: 0.5104 - val_loss: 1.4930 - val_accuracy: 0.4692\n",
            "Epoch 48/50\n",
            "1563/1563 [==============================] - 15s 10ms/step - loss: 1.3684 - accuracy: 0.5126 - val_loss: 1.5036 - val_accuracy: 0.4626\n",
            "Epoch 49/50\n",
            "1563/1563 [==============================] - 15s 10ms/step - loss: 1.3688 - accuracy: 0.5123 - val_loss: 1.5337 - val_accuracy: 0.4501\n",
            "Epoch 50/50\n",
            "1563/1563 [==============================] - 15s 10ms/step - loss: 1.3634 - accuracy: 0.5148 - val_loss: 1.5342 - val_accuracy: 0.4560\n"
          ]
        }
      ]
    },
    {
      "cell_type": "code",
      "metadata": {
        "colab": {
          "base_uri": "https://localhost:8080/",
          "height": 295
        },
        "id": "kogt5BNkAo-k",
        "outputId": "dc9df120-205c-49e0-db52-5f96ceba96c1"
      },
      "source": [
        "plt.plot(history2.history['accuracy'])\n",
        "plt.plot(history2.history['val_accuracy'])\n",
        "plt.title('model accuracy')\n",
        "plt.ylabel('accuracy')\n",
        "plt.xlabel('epoch')\n",
        "plt.legend(['train', 'val'], loc='upper left')\n",
        "plt.show()"
      ],
      "execution_count": 139,
      "outputs": [
        {
          "output_type": "display_data",
          "data": {
            "image/png": "[encoded data removed]",
            "text/plain": [
              "<Figure size 432x288 with 1 Axes>"
            ]
          },
          "metadata": {
            "needs_background": "light"
          }
        }
      ]
    },
    {
      "cell_type": "markdown",
      "metadata": {
        "id": "uNL0KK9aJJON"
      },
      "source": [
        "## **NetC**"
      ]
    },
    {
      "cell_type": "code",
      "metadata": {
        "colab": {
          "base_uri": "https://localhost:8080/"
        },
        "id": "7LJtkrDwJWfE",
        "outputId": "89325acb-7160-4c89-a1f8-fe14ee0d8352"
      },
      "source": [
        "net_c = keras.Sequential([\n",
        "                          keras.layers.Conv2D(filters= 25, kernel_size = (5,5), activation= 'relu', input_shape= (32,32,3)),\n",
        "                          keras.layers.MaxPool2D(pool_size= 2, strides= 2),\n",
        "                          keras.layers.Flatten(),\n",
        "                          keras.layers.Dense(10, activation= 'softmax')\n",
        "])\n",
        "\n",
        "net_c.compile(optimizer = 'adam', loss = 'sparse_categorical_crossentropy', metrics = ['accuracy'])\n",
        "history = net_c.fit(x_train, y_train, validation_data=(x_test, y_test), epochs = 50)"
      ],
      "execution_count": 105,
      "outputs": [
        {
          "output_type": "stream",
          "name": "stdout",
          "text": [
            "Epoch 1/50\n",
            "1563/1563 [==============================] - 44s 28ms/step - loss: 1.5334 - accuracy: 0.4612 - val_loss: 1.4462 - val_accuracy: 0.4958\n",
            "Epoch 2/50\n",
            "1563/1563 [==============================] - 44s 28ms/step - loss: 1.2886 - accuracy: 0.5516 - val_loss: 1.2840 - val_accuracy: 0.5520\n",
            "Epoch 3/50\n",
            "1563/1563 [==============================] - 43s 28ms/step - loss: 1.1815 - accuracy: 0.5895 - val_loss: 1.1740 - val_accuracy: 0.5924\n",
            "Epoch 4/50\n",
            "1563/1563 [==============================] - 43s 28ms/step - loss: 1.1120 - accuracy: 0.6178 - val_loss: 1.1720 - val_accuracy: 0.5957\n",
            "Epoch 5/50\n",
            "1563/1563 [==============================] - 43s 28ms/step - loss: 1.0612 - accuracy: 0.6345 - val_loss: 1.2010 - val_accuracy: 0.5979\n",
            "Epoch 6/50\n",
            "1563/1563 [==============================] - 43s 28ms/step - loss: 1.0197 - accuracy: 0.6487 - val_loss: 1.1354 - val_accuracy: 0.6070\n",
            "Epoch 7/50\n",
            "1563/1563 [==============================] - 43s 28ms/step - loss: 0.9856 - accuracy: 0.6610 - val_loss: 1.1248 - val_accuracy: 0.6155\n",
            "Epoch 8/50\n",
            "1563/1563 [==============================] - 44s 28ms/step - loss: 0.9618 - accuracy: 0.6700 - val_loss: 1.1526 - val_accuracy: 0.6061\n",
            "Epoch 9/50\n",
            "1563/1563 [==============================] - 43s 28ms/step - loss: 0.9352 - accuracy: 0.6774 - val_loss: 1.0860 - val_accuracy: 0.6312\n",
            "Epoch 10/50\n",
            "1563/1563 [==============================] - 43s 28ms/step - loss: 0.9198 - accuracy: 0.6834 - val_loss: 1.1061 - val_accuracy: 0.6272\n",
            "Epoch 11/50\n",
            "1563/1563 [==============================] - 43s 28ms/step - loss: 0.8989 - accuracy: 0.6910 - val_loss: 1.0988 - val_accuracy: 0.6264\n",
            "Epoch 12/50\n",
            "1563/1563 [==============================] - 43s 28ms/step - loss: 0.8818 - accuracy: 0.6956 - val_loss: 1.1128 - val_accuracy: 0.6276\n",
            "Epoch 13/50\n",
            "1563/1563 [==============================] - 43s 28ms/step - loss: 0.8600 - accuracy: 0.7036 - val_loss: 1.1484 - val_accuracy: 0.6131\n",
            "Epoch 14/50\n",
            "1563/1563 [==============================] - 43s 27ms/step - loss: 0.8487 - accuracy: 0.7064 - val_loss: 1.1112 - val_accuracy: 0.6280\n",
            "Epoch 15/50\n",
            "1563/1563 [==============================] - 44s 28ms/step - loss: 0.8325 - accuracy: 0.7124 - val_loss: 1.1515 - val_accuracy: 0.6259\n",
            "Epoch 16/50\n",
            "1563/1563 [==============================] - 44s 28ms/step - loss: 0.8183 - accuracy: 0.7192 - val_loss: 1.1481 - val_accuracy: 0.6252\n",
            "Epoch 17/50\n",
            "1563/1563 [==============================] - 43s 28ms/step - loss: 0.8055 - accuracy: 0.7212 - val_loss: 1.1991 - val_accuracy: 0.6110\n",
            "Epoch 18/50\n",
            "1563/1563 [==============================] - 43s 28ms/step - loss: 0.7942 - accuracy: 0.7281 - val_loss: 1.1505 - val_accuracy: 0.6223\n",
            "Epoch 19/50\n",
            "1563/1563 [==============================] - 43s 28ms/step - loss: 0.7867 - accuracy: 0.7270 - val_loss: 1.1929 - val_accuracy: 0.6196\n",
            "Epoch 20/50\n",
            "1563/1563 [==============================] - 46s 29ms/step - loss: 0.7707 - accuracy: 0.7327 - val_loss: 1.2013 - val_accuracy: 0.6204\n",
            "Epoch 21/50\n",
            "1563/1563 [==============================] - 43s 28ms/step - loss: 0.7681 - accuracy: 0.7339 - val_loss: 1.2210 - val_accuracy: 0.6088\n",
            "Epoch 22/50\n",
            "1563/1563 [==============================] - 44s 28ms/step - loss: 0.7546 - accuracy: 0.7389 - val_loss: 1.2290 - val_accuracy: 0.6125\n",
            "Epoch 23/50\n",
            "1563/1563 [==============================] - 43s 28ms/step - loss: 0.7425 - accuracy: 0.7426 - val_loss: 1.2234 - val_accuracy: 0.6162\n",
            "Epoch 24/50\n",
            "1563/1563 [==============================] - 43s 27ms/step - loss: 0.7401 - accuracy: 0.7443 - val_loss: 1.2491 - val_accuracy: 0.6075\n",
            "Epoch 25/50\n",
            "1563/1563 [==============================] - 45s 28ms/step - loss: 0.7263 - accuracy: 0.7454 - val_loss: 1.2255 - val_accuracy: 0.6210\n",
            "Epoch 26/50\n",
            "1563/1563 [==============================] - 44s 28ms/step - loss: 0.7167 - accuracy: 0.7514 - val_loss: 1.2933 - val_accuracy: 0.6139\n",
            "Epoch 27/50\n",
            "1563/1563 [==============================] - 44s 28ms/step - loss: 0.7142 - accuracy: 0.7519 - val_loss: 1.2687 - val_accuracy: 0.6161\n",
            "Epoch 28/50\n",
            "1563/1563 [==============================] - 43s 28ms/step - loss: 0.7073 - accuracy: 0.7543 - val_loss: 1.2846 - val_accuracy: 0.6139\n",
            "Epoch 29/50\n",
            "1563/1563 [==============================] - 44s 28ms/step - loss: 0.6985 - accuracy: 0.7556 - val_loss: 1.2810 - val_accuracy: 0.6106\n",
            "Epoch 30/50\n",
            "1563/1563 [==============================] - 44s 28ms/step - loss: 0.6918 - accuracy: 0.7576 - val_loss: 1.2926 - val_accuracy: 0.6144\n",
            "Epoch 31/50\n",
            "1563/1563 [==============================] - 43s 27ms/step - loss: 0.6845 - accuracy: 0.7618 - val_loss: 1.2984 - val_accuracy: 0.6127\n",
            "Epoch 32/50\n",
            "1563/1563 [==============================] - 43s 27ms/step - loss: 0.6778 - accuracy: 0.7640 - val_loss: 1.3236 - val_accuracy: 0.6078\n",
            "Epoch 33/50\n",
            "1563/1563 [==============================] - 43s 28ms/step - loss: 0.6722 - accuracy: 0.7655 - val_loss: 1.3070 - val_accuracy: 0.6092\n",
            "Epoch 34/50\n",
            "1563/1563 [==============================] - 44s 28ms/step - loss: 0.6670 - accuracy: 0.7678 - val_loss: 1.3188 - val_accuracy: 0.6200\n",
            "Epoch 35/50\n",
            "1563/1563 [==============================] - 44s 28ms/step - loss: 0.6589 - accuracy: 0.7704 - val_loss: 1.3674 - val_accuracy: 0.5989\n",
            "Epoch 36/50\n",
            "1563/1563 [==============================] - 43s 28ms/step - loss: 0.6552 - accuracy: 0.7692 - val_loss: 1.3679 - val_accuracy: 0.6066\n",
            "Epoch 37/50\n",
            "1563/1563 [==============================] - 43s 28ms/step - loss: 0.6480 - accuracy: 0.7730 - val_loss: 1.3676 - val_accuracy: 0.6060\n",
            "Epoch 38/50\n",
            "1563/1563 [==============================] - 43s 28ms/step - loss: 0.6469 - accuracy: 0.7736 - val_loss: 1.3562 - val_accuracy: 0.6126\n",
            "Epoch 39/50\n",
            "1563/1563 [==============================] - 43s 28ms/step - loss: 0.6401 - accuracy: 0.7781 - val_loss: 1.3868 - val_accuracy: 0.6088\n",
            "Epoch 40/50\n",
            "1563/1563 [==============================] - 43s 27ms/step - loss: 0.6343 - accuracy: 0.7764 - val_loss: 1.3750 - val_accuracy: 0.6099\n",
            "Epoch 41/50\n",
            "1563/1563 [==============================] - 44s 28ms/step - loss: 0.6276 - accuracy: 0.7794 - val_loss: 1.4515 - val_accuracy: 0.5941\n",
            "Epoch 42/50\n",
            "1563/1563 [==============================] - 43s 28ms/step - loss: 0.6238 - accuracy: 0.7801 - val_loss: 1.4107 - val_accuracy: 0.6063\n",
            "Epoch 43/50\n",
            "1563/1563 [==============================] - 43s 28ms/step - loss: 0.6194 - accuracy: 0.7829 - val_loss: 1.4260 - val_accuracy: 0.5998\n",
            "Epoch 44/50\n",
            "1563/1563 [==============================] - 43s 28ms/step - loss: 0.6118 - accuracy: 0.7853 - val_loss: 1.4275 - val_accuracy: 0.6071\n",
            "Epoch 45/50\n",
            "1563/1563 [==============================] - 44s 28ms/step - loss: 0.6114 - accuracy: 0.7858 - val_loss: 1.4509 - val_accuracy: 0.6036\n",
            "Epoch 46/50\n",
            "1563/1563 [==============================] - 44s 28ms/step - loss: 0.6040 - accuracy: 0.7872 - val_loss: 1.4673 - val_accuracy: 0.5991\n",
            "Epoch 47/50\n",
            "1563/1563 [==============================] - 44s 28ms/step - loss: 0.6035 - accuracy: 0.7875 - val_loss: 1.4545 - val_accuracy: 0.6057\n",
            "Epoch 48/50\n",
            "1563/1563 [==============================] - 44s 28ms/step - loss: 0.5969 - accuracy: 0.7897 - val_loss: 1.5107 - val_accuracy: 0.5967\n",
            "Epoch 49/50\n",
            "1563/1563 [==============================] - 43s 28ms/step - loss: 0.5981 - accuracy: 0.7892 - val_loss: 1.5473 - val_accuracy: 0.5875\n",
            "Epoch 50/50\n",
            "1563/1563 [==============================] - 43s 27ms/step - loss: 0.5876 - accuracy: 0.7937 - val_loss: 1.5122 - val_accuracy: 0.6023\n"
          ]
        }
      ]
    },
    {
      "cell_type": "code",
      "metadata": {
        "colab": {
          "base_uri": "https://localhost:8080/",
          "height": 295
        },
        "id": "aATrrH1ROFDN",
        "outputId": "49b39caa-f1b9-4c52-8100-c58fdb809ad8"
      },
      "source": [
        "plt.plot(history.history['accuracy'])\n",
        "plt.plot(history.history['val_accuracy'])\n",
        "plt.title('model accuracy')\n",
        "plt.ylabel('accuracy')\n",
        "plt.xlabel('epoch')\n",
        "plt.legend(['train', 'val'], loc='upper left')\n",
        "plt.show()"
      ],
      "execution_count": 110,
      "outputs": [
        {
          "output_type": "display_data",
          "data": {
            "image/png": "[encoded data removed]",
            "text/plain": [
              "<Figure size 432x288 with 1 Axes>"
            ]
          },
          "metadata": {
            "needs_background": "light"
          }
        }
      ]
    },
    {
      "cell_type": "markdown",
      "metadata": {
        "id": "sbqnRwCoOsL0"
      },
      "source": [
        "# **Visualization**"
      ]
    },
    {
      "cell_type": "code",
      "metadata": {
        "colab": {
          "base_uri": "https://localhost:8080/",
          "height": 451
        },
        "id": "z7ciz7k6TolK",
        "outputId": "56c80f11-9320-485f-8c8c-cbb748bb23e4"
      },
      "source": [
        "print('---------------Net A---------------')\n",
        "print('Training accuracy: %f' % history3.history['accuracy'][-1])\n",
        "print('Testing accuracy: %f' % history3.history['val_accuracy'][-1])\n",
        "\n",
        "print('---------------Net B---------------')\n",
        "print('Training accuracy: %f' % history2.history['accuracy'][-1])\n",
        "print('Testing accuracy: %f' % history2.history['val_accuracy'][-1])\n",
        "\n",
        "print('---------------Net C---------------')\n",
        "print('Training accuracy: %f' % history.history['accuracy'][-1])\n",
        "print('Testing accuracy: %f' % history.history['val_accuracy'][-1])\n",
        "\n",
        "\n",
        "plt.plot(history.history['accuracy'])\n",
        "plt.plot(history.history['val_accuracy'])\n",
        "plt.plot(history2.history['accuracy'])\n",
        "plt.plot(history2.history['val_accuracy'])\n",
        "plt.plot(history3.history['accuracy'])\n",
        "plt.plot(history3.history['val_accuracy'])\n",
        "plt.legend(['C_train', 'C_val', 'B_train', 'B_val', 'A_train', 'A_val'], loc='upper left')\n",
        "plt.title('model accuracy')\n",
        "plt.ylabel('accuracy')\n",
        "plt.xlabel('epoch')\n",
        "plt.show()"
      ],
      "execution_count": 138,
      "outputs": [
        {
          "output_type": "stream",
          "name": "stdout",
          "text": [
            "---------------Net A---------------\n",
            "Training accuracy: 0.408920\n",
            "Testing accuracy: 0.369900\n",
            "---------------Net B---------------\n",
            "Training accuracy: 0.514760\n",
            "Testing accuracy: 0.456000\n",
            "---------------Net C---------------\n",
            "Training accuracy: 0.793700\n",
            "Testing accuracy: 0.602300\n"
          ]
        },
        {
          "output_type": "display_data",
          "data": {
            "image/png": "[encoded data removed]",
            "text/plain": [
              "<Figure size 432x288 with 1 Axes>"
            ]
          },
          "metadata": {
            "needs_background": "light"
          }
        }
      ]
    },
    {
      "cell_type": "code",
      "metadata": {
        "colab": {
          "base_uri": "https://localhost:8080/",
          "height": 451
        },
        "id": "d0tPyNh9RUFo",
        "outputId": "be696fc8-e376-45ce-ea3c-7254af53582a"
      },
      "source": [
        "print('---------------Net A---------------')\n",
        "print('Training loss: %f' % history3.history['loss'][-1])\n",
        "print('Testing loss: %f' % history3.history['val_loss'][-1])\n",
        "\n",
        "print('---------------Net B---------------')\n",
        "print('Training loss: %f' % history2.history['loss'][-1])\n",
        "print('Testing loss: %f' % history2.history['val_loss'][-1])\n",
        "\n",
        "print('---------------Net C---------------')\n",
        "print('Training loss: %f' % history.history['loss'][-1])\n",
        "print('Testing loss: %f' % history.history['val_loss'][-1])\n",
        "\n",
        "plt.plot(history.history['loss'])\n",
        "plt.plot(history.history['val_loss'])\n",
        "plt.plot(history2.history['loss'])\n",
        "plt.plot(history2.history['val_loss'])\n",
        "plt.plot(history3.history['accuracy'])\n",
        "plt.plot(history3.history['val_accuracy'])\n",
        "plt.title('model loss')\n",
        "plt.ylabel('loss')\n",
        "plt.xlabel('epoch')\n",
        "plt.legend(['C_train', 'C_test', 'B_train', 'B_test', 'A_train', 'A_test'], loc='upper left')\n",
        "plt.show()"
      ],
      "execution_count": 137,
      "outputs": [
        {
          "output_type": "stream",
          "name": "stdout",
          "text": [
            "---------------Net A---------------\n",
            "Training loss: 1.737813\n",
            "Testing loss: 1.879735\n",
            "---------------Net B---------------\n",
            "Training loss: 1.363365\n",
            "Testing loss: 1.534182\n",
            "---------------Net C---------------\n",
            "Training loss: 0.587633\n",
            "Testing loss: 1.512186\n"
          ]
        },
        {
          "output_type": "display_data",
          "data": {
            "image/png": "[encoded data removed]",
            "text/plain": [
              "<Figure size 432x288 with 1 Axes>"
            ]
          },
          "metadata": {
            "needs_background": "light"
          }
        }
      ]
    }
  ]
}